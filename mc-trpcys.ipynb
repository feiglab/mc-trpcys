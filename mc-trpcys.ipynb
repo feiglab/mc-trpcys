{
 "cells": [
  {
   "cell_type": "markdown",
   "id": "fed669c3",
   "metadata": {},
   "source": [
    "[![Open In Colab](https://colab.research.google.com/assets/colab-badge.svg)](https://colab.research.google.com/github/feiglab/mc-trpcys/blob/main/mc-trpcys.ipynb)"
   ]
  },
  {
   "cell_type": "markdown",
   "id": "49d7b4dc",
   "metadata": {
    "slideshow": {
     "slide_type": "slide"
    }
   },
   "source": [
    "# Trp-Cys quenching curves via Monte Carlo sampling of 1D potentials"
   ]
  },
  {
   "cell_type": "markdown",
   "id": "8b2c1cd8",
   "metadata": {
    "slideshow": {
     "slide_type": "subslide"
    }
   },
   "source": [
    "Quenching of the tryptophan triplet state by cysteine is an experimental probe for characterizing intra- and intermolecular dynamics in proteins. The method is sensitive to distances up to about 1 nm and time scales between 100 ns and 50  $\\mu$s.\n",
    "\n",
    "In this notebook, 1D potentials are used to model Trp-Cys distance distributions. After sampling via Monte Carlo simulation with fixed or variable step sizes, quenching curves are calculated that can be compared to experimental data.\n",
    "\n",
    "This approach is described in more detail here:\n",
    "\n",
    "**Characterizing Transient Protein-Protein Interactions by Trp-Cys Quenching and Computer Simulations**<BR>\n",
    "Lim Heo, Katukurunde Gamage, Gilberto Valdes-Garcia, Lisa J. Lapidus, Michael Feig<BR>\n",
    "To be published (2022)"
   ]
  },
  {
   "cell_type": "markdown",
   "id": "49c9f8ee",
   "metadata": {
    "slideshow": {
     "slide_type": "subslide"
    }
   },
   "source": [
    "The potential that is being considered has the following function form:\n",
    "\n",
    "$$\n",
    "\\Large V(r) = \\epsilon \\left(\\left(\\frac{\\sigma}{r}\\right)^{12} - \\left(\\frac{\\sigma}{r}\\right)^6\\right) + a e^{\\frac{-(r-\\mu)^2}{w}}+\\frac{d k}{r}e^{\\frac{-r}{k}}\n",
    "$$"
   ]
  },
  {
   "cell_type": "code",
   "execution_count": 1,
   "id": "41ffc612",
   "metadata": {},
   "outputs": [],
   "source": [
    "import math as m\n",
    "\n",
    "def efunc(r,sig=3.28,eps=7.0,a=0.6,mu=4.74,w=0.15,d=0.0,k=10.0):\n",
    "    val=eps*((sig/r)**12-(sig/r)**6)+a*m.exp(-(r-mu)**2/w)+d*k/r*m.exp(-r/k)\n",
    "    return val"
   ]
  },
  {
   "cell_type": "markdown",
   "id": "d28301c0",
   "metadata": {
    "slideshow": {
     "slide_type": "subslide"
    }
   },
   "source": [
    "Let's check what the potential looks like:"
   ]
  },
  {
   "cell_type": "code",
   "execution_count": 2,
   "id": "5a2f2c0e",
   "metadata": {
    "scrolled": true
   },
   "outputs": [
    {
     "data": {
      "image/png": "[encoded data removed]",
      "text/plain": [
       "<Figure size 432x288 with 1 Axes>"
      ]
     },
     "metadata": {
      "needs_background": "light"
     },
     "output_type": "display_data"
    }
   ],
   "source": [
    "import numpy as np\n",
    "import matplotlib.pyplot as plt\n",
    "\n",
    "distance=np.arange(3.0,10.0,0.1)\n",
    "potential=np.array(list(map(efunc,distance)))\n",
    "\n",
    "plt.plot(distance,potential)\n",
    "plt.xlabel('distance')\n",
    "plt.ylabel('potential')\n",
    "plt.show()"
   ]
  },
  {
   "cell_type": "markdown",
   "id": "39d534d3",
   "metadata": {
    "slideshow": {
     "slide_type": "subslide"
    }
   },
   "source": [
    "For sampling we will use a slightly modified function that implements a finite box size, allows the step rise of the function at short distances to have a different value of $\\epsilon$, and turns on the long-range Debye-Hückel potential only after a certain distance."
   ]
  },
  {
   "cell_type": "code",
   "execution_count": 3,
   "id": "b8496a03",
   "metadata": {},
   "outputs": [],
   "source": [
    "def energy(r,box=25.0,sig=3.28,eps=7.0,epsl=-1,a=0.6,mu=4.74,w=0.15,d=0.0,k=10.0,dhcut=10.0):\n",
    "    if epsl<0:\n",
    "        epsl=eps\n",
    "        \n",
    "    x=r\n",
    "    if (x>box):\n",
    "        x=box-(x-box)\n",
    "    if (x<=0.0):\n",
    "        x=0.01\n",
    "    \n",
    "    minval=(2.0**(1.0/6.0))*sig\n",
    "    \n",
    "    if (dhcut<=0.01):\n",
    "        if (x>minval):\n",
    "            return efunc(x,sig=sig,eps=eps,a=a,mu=mu,w=w,d=d,k=k)\n",
    "        else:\n",
    "            pl=efunc(minval,sig=sig,eps=epsl,a=0.0,d=0.0)\n",
    "            pr=efunc(minval,sig=sig,eps=eps,a=a,mu=mu,w=w,d=d,k=k)\n",
    "            return efunc(x,sig=sig,eps=epsl,a=0.0,d=0.0)-pl+pr\n",
    "    else:\n",
    "        if (x<dhcut):\n",
    "            if (x>minval):\n",
    "                return efunc(x,sig=sig,eps=eps,a=a,mu=mu,w=w,d=0.0)\n",
    "            else:\n",
    "                pl=efunc(minval,sig=sig,eps=epsl,a=0.0,d=0.0)\n",
    "                pr=efunc(minval,sig=sig,eps=eps,a=a,mu=mu,w=w,d=0.0)\n",
    "                return efunc(x,sig=sig,eps=epsl,a=0.0,d=0.0)-pl+pr\n",
    "        else:\n",
    "            pl=efunc(dhcut,sig=sig,eps=eps,a=a,mu=mu,w=w,d=0.0)\n",
    "            pr=efunc(dhcut,sig=sig,eps=eps,a=a,mu=mu,w=w,d=d,k=k)\n",
    "            return efunc(x,sig=sig,eps=eps,a=a,mu=mu,w=w,d=d,k=k)-pr+pl  \n",
    "  \n"
   ]
  },
  {
   "cell_type": "code",
   "execution_count": 4,
   "id": "21c7288a",
   "metadata": {
    "scrolled": true
   },
   "outputs": [
    {
     "data": {
      "image/png": "[encoded data removed]",
      "text/plain": [
       "<Figure size 432x288 with 1 Axes>"
      ]
     },
     "metadata": {
      "needs_background": "light"
     },
     "output_type": "display_data"
    }
   ],
   "source": [
    "distance=np.arange(3.0,47.1,0.1)\n",
    "potential=np.array(list(map(lambda p: energy(p,box=25.0, d=1.0,k=20.0),distance)))\n",
    "\n",
    "plt.plot(distance,potential)\n",
    "plt.xlabel('distance')\n",
    "plt.ylabel('potential')\n",
    "plt.show()"
   ]
  },
  {
   "cell_type": "markdown",
   "id": "5366279b",
   "metadata": {},
   "source": [
    "The following code samples the potential via Monte Carlo"
   ]
  },
  {
   "cell_type": "code",
   "execution_count": 5,
   "id": "1fa29b7b",
   "metadata": {},
   "outputs": [],
   "source": [
    "import random \n",
    "\n",
    "def mcsample(nsteps,box=25.0,rinit=-1,dr=5.0,v1=0.0,kt=1.0):\n",
    "    if (rinit<0):\n",
    "        r=box/2.0\n",
    "    else:\n",
    "        r=rinit\n",
    "        \n",
    "    data=np.zeros(nsteps)\n",
    "    \n",
    "    for i in range(nsteps):\n",
    "        tr=r\n",
    "        if (tr>box):\n",
    "            tr=box-(tr-box)\n",
    "        \n",
    "        tdr=dr+v1*tr\n",
    "        step=tdr*random.random()\n",
    "        if (random.random()<0.5):\n",
    "            stepdir=1.0\n",
    "        else:\n",
    "            stepdir=-1.0\n",
    "        \n",
    "        newr=r+step*stepdir\n",
    "        \n",
    "        current_e=energy(r,box=box,d=1.0,k=20.0)\n",
    "        new_e=energy(newr,box=box)\n",
    "        delta_e=new_e-current_e\n",
    "        if (delta_e<0):\n",
    "            r=newr\n",
    "        else:\n",
    "            if(random.random()<m.exp(-delta_e/kt)):\n",
    "                r=newr\n",
    "\n",
    "        data[i]=r\n",
    "    \n",
    "    return data"
   ]
  },
  {
   "cell_type": "code",
   "execution_count": 6,
   "id": "9752a8ad",
   "metadata": {},
   "outputs": [],
   "source": [
    "nsteps=20000\n",
    "sample=mcsample(nsteps,box=25.0)"
   ]
  },
  {
   "cell_type": "code",
   "execution_count": 7,
   "id": "e37fd0cc",
   "metadata": {
    "scrolled": true
   },
   "outputs": [
    {
     "data": {
      "image/png": "[encoded data removed]",
      "text/plain": [
       "<Figure size 432x288 with 1 Axes>"
      ]
     },
     "metadata": {
      "needs_background": "light"
     },
     "output_type": "display_data"
    }
   ],
   "source": [
    "time=np.arange(min(nsteps,20000))\n",
    "\n",
    "plt.plot(time,sample[0:min(nsteps,20000)])\n",
    "plt.xlabel('MC time')\n",
    "plt.ylabel('distance')\n",
    "plt.show()"
   ]
  },
  {
   "cell_type": "markdown",
   "id": "2b34372e",
   "metadata": {},
   "source": [
    "Let's generate a probability distribution function from the distance histogram:"
   ]
  },
  {
   "cell_type": "code",
   "execution_count": 8,
   "id": "7465494e",
   "metadata": {},
   "outputs": [],
   "source": [
    "def histogram(data,res=0.1):\n",
    "    nhist=int(max(data)/res+1.5)\n",
    "    hist=np.zeros(nhist)\n",
    "    for n in data:\n",
    "        inx=int(n/res+0.5)\n",
    "        hist[inx]+=1   \n",
    "    maxval=0\n",
    "    for h in hist:\n",
    "        if h>maxval:\n",
    "            maxval=h\n",
    "    outdata=np.zeros([3,nhist])\n",
    "    for n in range(nhist):\n",
    "        outdata[0,n]=n*res\n",
    "        outdata[1,n]=hist[n]\n",
    "        if (hist[n]>0):\n",
    "            outdata[2,n]=-m.log(hist[n]/maxval)\n",
    "        else:\n",
    "            outdata[2,n]=9999.0;\n",
    "    return outdata"
   ]
  },
  {
   "cell_type": "code",
   "execution_count": 9,
   "id": "00fef068",
   "metadata": {},
   "outputs": [],
   "source": [
    "hist=histogram(sample)"
   ]
  },
  {
   "cell_type": "code",
   "execution_count": 10,
   "id": "1eef2f49",
   "metadata": {
    "scrolled": true
   },
   "outputs": [
    {
     "data": {
      "image/png": "[encoded data removed]",
      "text/plain": [
       "<Figure size 432x288 with 1 Axes>"
      ]
     },
     "metadata": {
      "needs_background": "light"
     },
     "output_type": "display_data"
    }
   ],
   "source": [
    "plt.plot(hist[0],hist[2])\n",
    "plt.xlabel('distance')\n",
    "plt.ylabel('-log p')\n",
    "plt.ylim(0,5)\n",
    "plt.show()"
   ]
  },
  {
   "cell_type": "markdown",
   "id": "216ba84f",
   "metadata": {
    "slideshow": {
     "slide_type": "subslide"
    }
   },
   "source": [
    "We can now calculate a quenching function from the sampled data according to:\n",
    "\n",
    "$$\n",
    "\\Large S_{quenching}(t)=\\left< exp\\left(-\\int_{0}^{t}q(t')dt'\\right)\\right>\n",
    "$$\n",
    "\n",
    "from the quenching function\n",
    "\n",
    "$$\n",
    "\\Large q(r) = k_0 exp\\left(-\\beta(r-a)\\right)\n",
    "$$\n",
    "\n",
    "Typical parameter values are:\n",
    "\n",
    "$$\n",
    "\\Large k_0 = 4.2 x 10^9 s^{-1}; a = 3.5 Å; \\beta = 4/Å\n",
    "$$\n"
   ]
  },
  {
   "cell_type": "code",
   "execution_count": 11,
   "id": "98ee945a",
   "metadata": {},
   "outputs": [],
   "source": [
    "def quench(data,box=25.0,q0=4.2,a0=3.5,beta=4.0):\n",
    "    n=len(data)\n",
    "    tarr=np.zeros(n)\n",
    "    xarr=np.zeros(n)\n",
    "    exarr=np.zeros(n)\n",
    "    for i in range(n):\n",
    "        tarr[i]=i\n",
    "        x=data[i]\n",
    "        if (x>box):\n",
    "            x=box-(x-box)\n",
    "        xarr[i]=x\n",
    "        exarr[i]=q0*m.exp(-beta*(x-a0))\n",
    "    \n",
    "    tmax=n\n",
    "    acc=np.zeros(tmax)\n",
    "    nacc=np.zeros(tmax)\n",
    "    for i in range(n-1):\n",
    "        sum=exarr[i]\n",
    "        for j in range(i+1,n):\n",
    "            sum+=exarr[j]\n",
    "            dt=j-i\n",
    "            acc[dt]+=m.exp(-sum)\n",
    "            nacc[dt]+=1\n",
    "    \n",
    "    outdata=np.zeros([3,tmax])\n",
    "    outdata[0,0]=0\n",
    "    outdata[1,0]=1\n",
    "    outdata[2,0]=0\n",
    "    for i in range(1,tmax):\n",
    "        outdata[0,i]=i\n",
    "        outdata[2,i]=nacc[i]\n",
    "        if (nacc[i]>0):\n",
    "            outdata[1,i]=acc[i]/nacc[i]\n",
    "        else:\n",
    "            outdata[1,i]=0.0;\n",
    "            \n",
    "            \n",
    "    return outdata"
   ]
  },
  {
   "cell_type": "code",
   "execution_count": 12,
   "id": "471d7ab8",
   "metadata": {},
   "outputs": [],
   "source": [
    "q=quench(sample,box=25.0)"
   ]
  },
  {
   "cell_type": "code",
   "execution_count": 13,
   "id": "59d78fe5",
   "metadata": {},
   "outputs": [
    {
     "data": {
      "image/png": "[encoded data removed]",
      "text/plain": [
       "<Figure size 432x288 with 1 Axes>"
      ]
     },
     "metadata": {
      "needs_background": "light"
     },
     "output_type": "display_data"
    }
   ],
   "source": [
    "plt.plot(q[0],q[1])\n",
    "plt.xlabel('MC time')\n",
    "plt.ylabel('survival probability')\n",
    "plt.ylim(0,1)\n",
    "plt.xscale(\"log\")\n",
    "plt.show()"
   ]
  },
  {
   "cell_type": "markdown",
   "id": "c98f393d",
   "metadata": {},
   "source": [
    "Finally we calculate the derivative dA/dlog(t)"
   ]
  },
  {
   "cell_type": "code",
   "execution_count": 14,
   "id": "655489f0",
   "metadata": {},
   "outputs": [],
   "source": [
    "def linearfit(xdata,ydata):\n",
    "    mval=nval=0.0\n",
    "    sx=sy=0.0\n",
    "\n",
    "    nn=min(len(xdata),len(ydata))\n",
    "    \n",
    "    for i in range(nn):\n",
    "        sx+=xdata[i]\n",
    "        sy+=ydata[i]\n",
    "    ss=nn\n",
    "    sxoss=sx/ss\n",
    "    \n",
    "    st2=0.0\n",
    "    \n",
    "    for i in range(nn):\n",
    "        t=xdata[i]-sxoss\n",
    "        st2+=t*t\n",
    "        mval+=t*ydata[i]\n",
    "        \n",
    "    mval/=st2\n",
    "    nval=(sy-sx*mval)/ss\n",
    "\n",
    "    siga=m.sqrt((1.0+sx*sx/(ss*st2))/ss)\n",
    "    sigb=m.sqrt(1.0/st2)\n",
    "\n",
    "    chi2=vary=0.0\n",
    "    for i in range(nn):\n",
    "        tc=(ydata[i]-nval-mval*xdata[i])\n",
    "        chi2+=tc*tc\n",
    "        tc=(ydata[i]-sy/ss)\n",
    "        vary+=tc*tc\n",
    "\n",
    "    cval=1.0\n",
    "    if (vary>0 or vary<0):\n",
    "        sv=1.0-(chi2/vary)\n",
    "        if (sv>=0):\n",
    "            cval=m.sqrt(sv);\n",
    "            \n",
    "    if (mval<0.0):\n",
    "        cval=-cval\n",
    "\n",
    "    return(mval,nval,cval)\n",
    "\n",
    "def qderiv(data,winsize=3):\n",
    "    n=len(data[0])\n",
    "    ddata=np.zeros([4,n])\n",
    "    for i in range(n):\n",
    "        ddata[0,i]=data[0,i]\n",
    "        ddata[1,i]=data[1,i]\n",
    "        ddata[3,i]=data[2,i]\n",
    "        xdata=np.zeros(winsize*2+1)\n",
    "        ydata=np.zeros(winsize*2+1)\n",
    "        ndat=0\n",
    "        for j in range(i-winsize,i+winsize,1):\n",
    "            if (j>0 and j<n):\n",
    "                xdata[ndat]=m.log10(data[0,j])\n",
    "                ydata[ndat]=data[1,j]\n",
    "                ndat+=1\n",
    "        (mval,nval,cval)=linearfit(xdata[0:ndat],ydata[0:ndat])\n",
    "        ddata[2,i]=mval\n",
    "    return ddata"
   ]
  },
  {
   "cell_type": "code",
   "execution_count": 15,
   "id": "4741ffff",
   "metadata": {},
   "outputs": [],
   "source": [
    "dq=qderiv(q)"
   ]
  },
  {
   "cell_type": "code",
   "execution_count": 18,
   "id": "cb867a49",
   "metadata": {},
   "outputs": [
    {
     "data": {
      "image/png": "[encoded data removed]",
      "text/plain": [
       "<Figure size 432x288 with 1 Axes>"
      ]
     },
     "metadata": {
      "needs_background": "light"
     },
     "output_type": "display_data"
    }
   ],
   "source": [
    "plt.plot(dq[0],dq[2])\n",
    "plt.xlabel('MC time')\n",
    "plt.ylabel('dA/dlog(t)')\n",
    "plt.ylim(-0.9,0)\n",
    "plt.xscale(\"log\")\n",
    "plt.show()"
   ]
  },
  {
   "cell_type": "code",
   "execution_count": null,
   "id": "10d4bfd0",
   "metadata": {},
   "outputs": [],
   "source": []
  }
 ],
 "metadata": {
  "kernelspec": {
   "display_name": "Python 3 (ipykernel)",
   "language": "python",
   "name": "python3"
  },
  "language_info": {
   "codemirror_mode": {
    "name": "ipython",
    "version": 3
   },
   "file_extension": ".py",
   "mimetype": "text/x-python",
   "name": "python",
   "nbconvert_exporter": "python",
   "pygments_lexer": "ipython3",
   "version": "3.9.9"
  }
 },
 "nbformat": 4,
 "nbformat_minor": 5
}
